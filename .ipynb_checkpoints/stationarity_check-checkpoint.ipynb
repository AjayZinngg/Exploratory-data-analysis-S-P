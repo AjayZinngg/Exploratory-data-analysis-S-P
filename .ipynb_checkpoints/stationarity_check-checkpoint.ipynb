{
 "cells": [
  {
   "cell_type": "code",
   "execution_count": null,
   "metadata": {},
   "outputs": [],
   "source": [
    "import numpy as np #vectors and matrices\n",
    "import pandas as pd #tables and data manipulations\n",
    "import matplotlib.pyplot as plt #plots\n",
    "import seaborn as sns #more plots\n",
    "from dateutil.relativedelta import relativedelta # working with dates with stylefrom scipy.optimize import minimize\n",
    "import statsmodels.api as sm\n",
    "# for function minimization\n",
    "#from fbprophet import Prophet\n",
    "\n",
    "from plotly import tools\n",
    "import chart_studio.plotly as py\n",
    "import plotly.figure_factory as ff\n",
    "import plotly.tools as tls\n",
    "import plotly.graph_objs as go\n",
    "from plotly.offline import download_plotlyjs, init_notebook_mode, plot, iplot\n",
    "init_notebook_mode(connected=True)\n",
    "\n",
    "from statsmodels.tsa.stattools import adfuller\n",
    "from statsmodels.tsa.stattools import acf  \n",
    "from statsmodels.tsa.stattools import pacf"
   ]
  },
  {
   "cell_type": "code",
   "execution_count": null,
   "metadata": {},
   "outputs": [],
   "source": [
    "#read data from csv\n",
    "df = pd.read_csv('stock_data.csv')\n",
    "df.set_index('Date', inplace=True)\n",
    "print(df.columns)\n",
    "\n",
    "\n",
    "\n",
    "#for mapping the ticker in df\n",
    "cond = {'1' : 'AMZN', '2': 'TIF','3':'HD','4':\"AAPL\",'5':\"WMT\"}"
   ]
  },
  {
   "cell_type": "code",
   "execution_count": null,
   "metadata": {},
   "outputs": [],
   "source": [
    "#spliting ticker data seprately\n",
    "amzn_data = df.loc[df.ticker == cond['1'], ['Close']]  #for AMZN"
   ]
  },
  {
   "cell_type": "code",
   "execution_count": null,
   "metadata": {},
   "outputs": [],
   "source": [
    "amzn_data.plot()\n",
    "plt.show()"
   ]
  },
  {
   "cell_type": "code",
   "execution_count": null,
   "metadata": {},
   "outputs": [],
   "source": []
  }
 ],
 "metadata": {
  "kernelspec": {
   "display_name": "Python 3",
   "language": "python",
   "name": "python3"
  }
 },
 "nbformat": 4,
 "nbformat_minor": 2
}
