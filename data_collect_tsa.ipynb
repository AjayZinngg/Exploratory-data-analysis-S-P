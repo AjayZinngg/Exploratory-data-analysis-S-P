{
 "cells": [
  {
   "cell_type": "markdown",
   "metadata": {},
   "source": [
    "## This Script Extract the data from Yahoo\n",
    "#### Frequancy of data is daily once"
   ]
  },
  {
   "cell_type": "code",
   "execution_count": 115,
   "metadata": {},
   "outputs": [],
   "source": [
    "# importing libraries\n",
    "import pandas as pd\n",
    "import numpy as np\n",
    "import os\n",
    "import datetime as dt\n",
    "from datetime import timedelta\n",
    "import pandas_datareader.data as web\n",
    "from dateutil.relativedelta import relativedelta"
   ]
  },
  {
   "cell_type": "code",
   "execution_count": 116,
   "metadata": {},
   "outputs": [],
   "source": [
    "tickers=[\"AMZN\", \"TIF\", \"HD\", \"AAPL\", \"WMT\"]\n",
    "\n"
   ]
  },
  {
   "cell_type": "code",
   "execution_count": 89,
   "metadata": {},
   "outputs": [
    {
     "name": "stdout",
     "output_type": "stream",
     "text": [
      "AMZN\n",
      "TIF\n",
      "HD\n",
      "AAPL\n",
      "WMT\n"
     ]
    }
   ],
   "source": [
    "#getting the data for [\"AMZN\", \"TIFF\", \"HD\", \"AAPL\", \"WMT\"] tickers and saving in the csv\n",
    "\n",
    "def get_history_data_into_csv(tickers):\n",
    "    \n",
    "    #check for directory\n",
    "    if not os.path.exists('stock_dfs'):\n",
    "        os.makedirs('stock_dfs')\n",
    "    \n",
    "    start = dt.datetime.now()-relativedelta(years=5) #start Date\n",
    "    start = start.strftime(\"%Y-%m-%d\")\n",
    "    end = dt.datetime.now()-timedelta(days=2) #end date\n",
    "    end = end.strftime(\"%Y-%m-%d\")\n",
    "    for ticker in tickers:\n",
    "        print(ticker)\n",
    "        try:\n",
    "            df = web.DataReader(ticker, 'yahoo', start, end)\n",
    "            df['ticker'] = ticker\n",
    "            df.reset_index(inplace=True)\n",
    "            df.set_index(\"Date\", inplace=True)\n",
    "            lst.append(df)\n",
    "        except:\n",
    "            print(\"The data for {} is not present\".format(ticker))\n",
    "    df1 = pd.concat(lst)\n",
    "        \n",
    "        \n",
    "    df1.to_csv('stock_data.csv')\n",
    "\n",
    "lst=[]\n",
    "#get_history_data_into_csv(tickers)"
   ]
  },
  {
   "cell_type": "code",
   "execution_count": 122,
   "metadata": {},
   "outputs": [
    {
     "name": "stdout",
     "output_type": "stream",
     "text": [
      "AMZN\n",
      "TIF\n",
      "HD\n",
      "AAPL\n",
      "WMT\n",
      "DatetimeIndex(['2019-09-17', '2019-09-18'], dtype='datetime64[ns]', name='Date', freq=None)\n",
      "2019-09-18\n",
      "A\n"
     ]
    }
   ],
   "source": [
    "# this function append the daily data in to exiting csv file\n",
    "\n",
    "def get_daily_data_into_csv(tickers):\n",
    "    \n",
    "    #check for directory\n",
    "    if not os.path.exists('stock_dfs'):\n",
    "        os.makedirs('stock_dfs')\n",
    "    \n",
    "    start = dt.datetime.now() - timedelta(days=1) #start Date\n",
    "    start = start.strftime(\"%Y-%m-%d\")\n",
    "    end = dt.datetime.now() - timedelta(days=1) #end date\n",
    "    end = end.strftime(\"%Y-%m-%d\")\n",
    "    for ticker in tickers:\n",
    "        print(ticker)\n",
    "        try:\n",
    "            df_daily = web.DataReader(ticker, 'yahoo', start, end)\n",
    "            df_daily['ticker'] = ticker\n",
    "            df_daily.reset_index(inplace=True)\n",
    "            df_daily.set_index(\"Date\", inplace=True)            \n",
    "            lst_daily.append(df_daily)\n",
    "        except:\n",
    "            print(\"The data for {} is not present\".format(ticker))\n",
    "\n",
    "    df1 = pd.concat(lst_daily)    \n",
    "    \n",
    "    # check if data is already present in the file \n",
    "    ReadCsv = pd.read_csv('stock_data.csv',parse_dates=['Date'],index_col='Date')\n",
    "    \n",
    "    if start in ReadCsv.index :\n",
    "        print(\"A\")\n",
    "        ReadCsv = ReadCsv.drop(df1.index.unique())\n",
    "        ReadCsv = ReadCsv.append(df1)\n",
    "    else:\n",
    "        ReadCsv = ReadCsv.append(df1)\n",
    "    ReadCsv.to_csv('stock_data.csv')\n",
    "        \n",
    "        \n",
    "        \n",
    "    #df1.to_csv('stock_data.csv')\n",
    "lst_daily=[]\n",
    "get_daily_data_into_csv(tickers)"
   ]
  },
  {
   "cell_type": "code",
   "execution_count": null,
   "metadata": {},
   "outputs": [],
   "source": []
  }
 ],
 "metadata": {
  "kernelspec": {
   "display_name": "Python 3",
   "language": "python",
   "name": "python3"
  },
  "language_info": {
   "codemirror_mode": {
    "name": "ipython",
    "version": 3
   },
   "file_extension": ".py",
   "mimetype": "text/x-python",
   "name": "python",
   "nbconvert_exporter": "python",
   "pygments_lexer": "ipython3",
   "version": "3.7.3"
  }
 },
 "nbformat": 4,
 "nbformat_minor": 2
}
