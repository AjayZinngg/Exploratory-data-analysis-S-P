{
 "cells": [
  {
   "cell_type": "code",
   "execution_count": 36,
   "metadata": {},
   "outputs": [],
   "source": [
    "import csv\n",
    "import numpy as np\n",
    "from sklearn.linear_model import LinearRegression\n",
    "import matplotlib.pyplot as plt\n",
    "import pandas as pd\n",
    "\n",
    "dates=[]\n",
    "prices=[]\n"
   ]
  },
  {
   "cell_type": "code",
   "execution_count": 37,
   "metadata": {},
   "outputs": [],
   "source": [
    "def get_data(filename,ticker):\n",
    "    with open(filename, 'r') as csvfile:\n",
    "        csvFileReader = csv.reader(csvfile)\n",
    "        next(csvFileReader) # skipping column names\n",
    "        for row in csvFileReader:\n",
    "            \n",
    "            if(row[7]==ticker):\n",
    "                dates.append(int(row[0].split('/')[1]))\n",
    "                prices.append(float(row[4]))\n",
    "    return\n",
    "get_data('stock_data_monthly.csv','AMZN')"
   ]
  },
  {
   "cell_type": "code",
   "execution_count": 38,
   "metadata": {
    "scrolled": true
   },
   "outputs": [
    {
     "data": {
      "image/png": "[encoded data removed]",
      "text/plain": [
       "<Figure size 432x288 with 1 Axes>"
      ]
     },
     "metadata": {
      "needs_background": "light"
     },
     "output_type": "display_data"
    }
   ],
   "source": [
    "def show_plot(dates,prices):\n",
    "    linear_mod = LinearRegression()\n",
    "    dates = np.reshape(dates,(len(dates),1)) # converting to matrix of n X 1\n",
    "    prices = np.reshape(prices,(len(prices),1))\n",
    "    linear_mod.fit(dates,prices) #fitting the data points in the model\n",
    "    plt.scatter(dates,prices,color='yellow') #plotting the initial datapoints \n",
    "    plt.plot(dates,linear_mod.predict(dates),color='blue',linewidth=3) #plotting the line made by linear regression\n",
    "    plt.show()\n",
    "    return\n",
    "show_plot(dates,prices)"
   ]
  },
  {
   "cell_type": "code",
   "execution_count": 69,
   "metadata": {},
   "outputs": [
    {
     "name": "stdout",
     "output_type": "stream",
     "text": [
      "14\n"
     ]
    },
    {
     "data": {
      "image/png": "[encoded data removed]",
      "text/plain": [
       "<Figure size 432x288 with 1 Axes>"
      ]
     },
     "metadata": {
      "needs_background": "light"
     },
     "output_type": "display_data"
    },
    {
     "name": "stdout",
     "output_type": "stream",
     "text": [
      "[1819.18650213]\n",
      "[[0.11146699]]\n"
     ]
    },
    {
     "data": {
      "text/plain": [
       "(array([1821.63877587]), 0.11146698836242773, 1819.1865021296758)"
      ]
     },
     "execution_count": 69,
     "metadata": {},
     "output_type": "execute_result"
    }
   ],
   "source": [
    "def predict_price(dates, prices, x):\n",
    "    print(len(dates))\n",
    "    dates = np.reshape(dates, (len(dates),1)) # converting to matrix of n X 1\n",
    "    prices = np.reshape(prices, (len(prices),1))\n",
    "    \n",
    "    linear_mod = LinearRegression() # defining the linear regression model\n",
    "    linear_mod.fit(dates, prices) # fitting the data points in the model\n",
    "    \n",
    "    plt.scatter(dates, prices, color= 'black', label= 'Data') # plotting the initial datapoints \n",
    "    plt.plot(dates, linear_mod.predict(dates), color= 'red', label= 'Linear model') # plotting the line made by linear regression\n",
    "    plt.xlabel('Date')\n",
    "    plt.ylabel('Price')\n",
    "    plt.title('Linear Regression')\n",
    "    plt.legend()\n",
    "    plt.show()\n",
    "    \n",
    "    print(linear_mod.intercept_)\n",
    "    print(linear_mod.coef_)\n",
    "    \n",
    "    \n",
    "    return linear_mod.predict(np.array(x).reshape(-1,1))[0], linear_mod.coef_[0][0], linear_mod.intercept_[0]\n",
    "\n",
    "predict_price(dates,prices,22)\n"
   ]
  }
 ],
 "metadata": {
  "kernelspec": {
   "display_name": "Python 3",
   "language": "python",
   "name": "python3"
  },
  "language_info": {
   "codemirror_mode": {
    "name": "ipython",
    "version": 3
   },
   "file_extension": ".py",
   "mimetype": "text/x-python",
   "name": "python",
   "nbconvert_exporter": "python",
   "pygments_lexer": "ipython3",
   "version": "3.7.3"
  }
 },
 "nbformat": 4,
 "nbformat_minor": 2
}
